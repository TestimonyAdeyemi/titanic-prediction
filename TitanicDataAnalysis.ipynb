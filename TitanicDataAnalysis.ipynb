{
 "cells": [
  {
   "cell_type": "code",
   "execution_count": 2,
   "id": "bf8545dd-74ac-4278-b345-e07f34d37eed",
   "metadata": {},
   "outputs": [],
   "source": [
    "import matplotlib.pyplot as plt\n",
    "import pandas as pd\n",
    "import numpy as np"
   ]
  },
  {
   "cell_type": "code",
   "execution_count": 3,
   "id": "439eee03-9609-463c-9e3a-75ce9b1c74fa",
   "metadata": {},
   "outputs": [],
   "source": [
    "data = pd.read_csv('titanic.csv')"
   ]
  },
  {
   "cell_type": "code",
   "execution_count": 4,
   "id": "ba0a0b79-215c-445b-acd2-a20ce0b2ab3d",
   "metadata": {},
   "outputs": [
    {
     "data": {
      "text/html": [
       "<div>\n",
       "<style scoped>\n",
       "    .dataframe tbody tr th:only-of-type {\n",
       "        vertical-align: middle;\n",
       "    }\n",
       "\n",
       "    .dataframe tbody tr th {\n",
       "        vertical-align: top;\n",
       "    }\n",
       "\n",
       "    .dataframe thead th {\n",
       "        text-align: right;\n",
       "    }\n",
       "</style>\n",
       "<table border=\"1\" class=\"dataframe\">\n",
       "  <thead>\n",
       "    <tr style=\"text-align: right;\">\n",
       "      <th></th>\n",
       "      <th>PassengerId</th>\n",
       "      <th>Survived</th>\n",
       "      <th>Pclass</th>\n",
       "      <th>Name</th>\n",
       "      <th>Sex</th>\n",
       "      <th>Age</th>\n",
       "      <th>SibSp</th>\n",
       "      <th>Parch</th>\n",
       "      <th>Ticket</th>\n",
       "      <th>Fare</th>\n",
       "      <th>Cabin</th>\n",
       "      <th>Embarked</th>\n",
       "    </tr>\n",
       "  </thead>\n",
       "  <tbody>\n",
       "    <tr>\n",
       "      <th>0</th>\n",
       "      <td>1</td>\n",
       "      <td>0</td>\n",
       "      <td>3</td>\n",
       "      <td>Braund, Mr. Owen Harris</td>\n",
       "      <td>male</td>\n",
       "      <td>22.0</td>\n",
       "      <td>1</td>\n",
       "      <td>0</td>\n",
       "      <td>A/5 21171</td>\n",
       "      <td>7.2500</td>\n",
       "      <td>NaN</td>\n",
       "      <td>S</td>\n",
       "    </tr>\n",
       "    <tr>\n",
       "      <th>1</th>\n",
       "      <td>2</td>\n",
       "      <td>1</td>\n",
       "      <td>1</td>\n",
       "      <td>Cumings, Mrs. John Bradley (Florence Briggs Th...</td>\n",
       "      <td>female</td>\n",
       "      <td>38.0</td>\n",
       "      <td>1</td>\n",
       "      <td>0</td>\n",
       "      <td>PC 17599</td>\n",
       "      <td>71.2833</td>\n",
       "      <td>C85</td>\n",
       "      <td>C</td>\n",
       "    </tr>\n",
       "    <tr>\n",
       "      <th>2</th>\n",
       "      <td>3</td>\n",
       "      <td>1</td>\n",
       "      <td>3</td>\n",
       "      <td>Heikkinen, Miss. Laina</td>\n",
       "      <td>female</td>\n",
       "      <td>26.0</td>\n",
       "      <td>0</td>\n",
       "      <td>0</td>\n",
       "      <td>STON/O2. 3101282</td>\n",
       "      <td>7.9250</td>\n",
       "      <td>NaN</td>\n",
       "      <td>S</td>\n",
       "    </tr>\n",
       "    <tr>\n",
       "      <th>3</th>\n",
       "      <td>4</td>\n",
       "      <td>1</td>\n",
       "      <td>1</td>\n",
       "      <td>Futrelle, Mrs. Jacques Heath (Lily May Peel)</td>\n",
       "      <td>female</td>\n",
       "      <td>35.0</td>\n",
       "      <td>1</td>\n",
       "      <td>0</td>\n",
       "      <td>113803</td>\n",
       "      <td>53.1000</td>\n",
       "      <td>C123</td>\n",
       "      <td>S</td>\n",
       "    </tr>\n",
       "    <tr>\n",
       "      <th>4</th>\n",
       "      <td>5</td>\n",
       "      <td>0</td>\n",
       "      <td>3</td>\n",
       "      <td>Allen, Mr. William Henry</td>\n",
       "      <td>male</td>\n",
       "      <td>35.0</td>\n",
       "      <td>0</td>\n",
       "      <td>0</td>\n",
       "      <td>373450</td>\n",
       "      <td>8.0500</td>\n",
       "      <td>NaN</td>\n",
       "      <td>S</td>\n",
       "    </tr>\n",
       "  </tbody>\n",
       "</table>\n",
       "</div>"
      ],
      "text/plain": [
       "   PassengerId  Survived  Pclass  \\\n",
       "0            1         0       3   \n",
       "1            2         1       1   \n",
       "2            3         1       3   \n",
       "3            4         1       1   \n",
       "4            5         0       3   \n",
       "\n",
       "                                                Name     Sex   Age  SibSp  \\\n",
       "0                            Braund, Mr. Owen Harris    male  22.0      1   \n",
       "1  Cumings, Mrs. John Bradley (Florence Briggs Th...  female  38.0      1   \n",
       "2                             Heikkinen, Miss. Laina  female  26.0      0   \n",
       "3       Futrelle, Mrs. Jacques Heath (Lily May Peel)  female  35.0      1   \n",
       "4                           Allen, Mr. William Henry    male  35.0      0   \n",
       "\n",
       "   Parch            Ticket     Fare Cabin Embarked  \n",
       "0      0         A/5 21171   7.2500   NaN        S  \n",
       "1      0          PC 17599  71.2833   C85        C  \n",
       "2      0  STON/O2. 3101282   7.9250   NaN        S  \n",
       "3      0            113803  53.1000  C123        S  \n",
       "4      0            373450   8.0500   NaN        S  "
      ]
     },
     "execution_count": 4,
     "metadata": {},
     "output_type": "execute_result"
    }
   ],
   "source": [
    "data.head(5)"
   ]
  },
  {
   "cell_type": "markdown",
   "id": "60a7e1e3-8389-4d54-9b33-342a347c2e34",
   "metadata": {},
   "source": [
    "## Survial Percentage"
   ]
  },
  {
   "cell_type": "code",
   "execution_count": 5,
   "id": "3fb6b883-564d-4eee-ae42-9791f2e17ac8",
   "metadata": {},
   "outputs": [
    {
     "name": "stdout",
     "output_type": "stream",
     "text": [
      "Percentage of passengers who survived: 38.38%\n"
     ]
    }
   ],
   "source": [
    "survival_percentage = data['Survived'].mean() * 100\n",
    "print(f\"Percentage of passengers who survived: {survival_percentage:.2f}%\")\n"
   ]
  },
  {
   "cell_type": "code",
   "execution_count": 6,
   "id": "3c30ad17-5ae7-4b9b-8c00-9d36a59ee495",
   "metadata": {},
   "outputs": [
    {
     "name": "stdout",
     "output_type": "stream",
     "text": [
      "Survived\n",
      "0    549\n",
      "1    342\n",
      "Name: count, dtype: int64\n"
     ]
    },
    {
     "data": {
      "image/png": "[encoded data removed]",
      "text/plain": [
       "<Figure size 640x480 with 1 Axes>"
      ]
     },
     "metadata": {},
     "output_type": "display_data"
    }
   ],
   "source": [
    "\n",
    "# Count the number of survivors and non-survivors\n",
    "survival_counts = data['Survived'].value_counts()\n",
    "print(survival_counts)\n",
    "# Plot a pie chart\n",
    "labels = ['Died', 'Survived']\n",
    "colors = ['lightcoral', 'lightgreen']\n",
    "\n",
    "plt.pie(survival_counts, labels=labels, colors=colors, autopct='%1.1f%%', startangle=90)\n",
    "plt.title('Survival Distribution on the Titanic')\n",
    "plt.axis('equal')  # Equal aspect ratio ensures that pie is drawn as a circle.\n",
    "\n",
    "# Show the pie chart\n",
    "plt.show()\n"
   ]
  },
  {
   "cell_type": "markdown",
   "id": "ff800690-4f1a-450d-96ed-6d6b657882aa",
   "metadata": {},
   "source": [
    "## Survival by class"
   ]
  },
  {
   "cell_type": "code",
   "execution_count": 7,
   "id": "731615fa-e483-43df-b959-74f9f9dfc8a5",
   "metadata": {},
   "outputs": [
    {
     "name": "stdout",
     "output_type": "stream",
     "text": [
      "Pclass\n",
      "1    62.962963\n",
      "2    47.282609\n",
      "3    24.236253\n",
      "Name: Survived, dtype: float64\n"
     ]
    },
    {
     "data": {
      "image/png": "[encoded data removed]",
      "text/plain": [
       "<Figure size 640x480 with 1 Axes>"
      ]
     },
     "metadata": {},
     "output_type": "display_data"
    }
   ],
   "source": [
    "survival_by_class = data.groupby('Pclass')['Survived'].mean()\n",
    "print(survival_by_class*100)\n",
    "# Plot the results\n",
    "plt.bar(survival_by_class.index, survival_by_class * 100, color=['lightcoral', 'lightgreen', 'lightblue'])\n",
    "plt.xlabel('Passenger Class')\n",
    "plt.ylabel('Survival Rate (%)')\n",
    "plt.title('Survival Rate Based on Passenger Class')\n",
    "plt.xticks(survival_by_class.index, labels=['1st Class', '2nd Class', '3rd Class'], rotation=0)\n",
    "plt.show()"
   ]
  },
  {
   "cell_type": "markdown",
   "id": "ceabd069-a23a-407d-a372-3c509a4a4d9a",
   "metadata": {},
   "source": [
    "## Survival by Sex"
   ]
  },
  {
   "cell_type": "code",
   "execution_count": 8,
   "id": "3d4814f0-3848-46a5-8a44-312fe5b30b28",
   "metadata": {},
   "outputs": [
    {
     "data": {
      "text/plain": [
       "Sex\n",
       "female    233\n",
       "male      109\n",
       "Name: Survived, dtype: int64"
      ]
     },
     "execution_count": 8,
     "metadata": {},
     "output_type": "execute_result"
    }
   ],
   "source": [
    "survivors_by_sex = data.groupby('Sex')['Survived'].sum()\n",
    "survivors_by_sex"
   ]
  },
  {
   "cell_type": "code",
   "execution_count": 9,
   "id": "67f12d3b-09b2-4055-83d0-aa9bc7684abd",
   "metadata": {},
   "outputs": [
    {
     "data": {
      "image/png": "[encoded data removed]",
      "text/plain": [
       "<Figure size 640x480 with 1 Axes>"
      ]
     },
     "metadata": {},
     "output_type": "display_data"
    }
   ],
   "source": [
    "# Plot the results\n",
    "plt.bar(survivors_by_sex.index, survivors_by_sex, color=['lightblue', 'lightpink'])\n",
    "plt.xlabel('Sex')\n",
    "plt.ylabel('Number of Survivors')\n",
    "plt.title('Number of Male and Female Survivors')\n",
    "plt.show()"
   ]
  },
  {
   "cell_type": "markdown",
   "id": "0367a141-a344-4560-ba7f-425cbb385eac",
   "metadata": {},
   "source": [
    "## Distribution of Passenger Ages"
   ]
  },
  {
   "cell_type": "markdown",
   "id": "e22b42a3-cfa6-406e-bda1-28a04dbcf2f3",
   "metadata": {},
   "source": [
    "## Training the model to predict survival"
   ]
  },
  {
   "cell_type": "code",
   "execution_count": 10,
   "id": "cc2396c4-375d-4868-bcd6-03d71bb7316c",
   "metadata": {},
   "outputs": [
    {
     "name": "stdout",
     "output_type": "stream",
     "text": [
      "WARNING:tensorflow:From c:\\Users\\KABSTORE\\AppData\\Local\\Programs\\Python\\Python311\\Lib\\site-packages\\keras\\src\\losses.py:2976: The name tf.losses.sparse_softmax_cross_entropy is deprecated. Please use tf.compat.v1.losses.sparse_softmax_cross_entropy instead.\n",
      "\n"
     ]
    }
   ],
   "source": [
    "# Set-up\n",
    "import csv\n",
    "import numpy as np\n",
    "import pandas as pd\n",
    "from sklearn.neighbors import KNeighborsClassifier\n",
    "from sklearn.tree import DecisionTreeClassifier\n",
    "from sklearn.ensemble import RandomForestClassifier\n",
    "from sklearn.naive_bayes import GaussianNB\n",
    "from sklearn.preprocessing import LabelEncoder\n",
    "from sklearn.preprocessing import StandardScaler\n",
    "from keras import Sequential\n",
    "from keras.layers import Dense\n",
    "from numpy.random import seed\n",
    "import tensorflow"
   ]
  },
  {
   "cell_type": "code",
   "execution_count": 11,
   "id": "b7e3095c-5dc2-4ce6-ad24-c08ca8ce2a74",
   "metadata": {},
   "outputs": [
    {
     "name": "stdout",
     "output_type": "stream",
     "text": [
      "Training set 819 items\n",
      "Test set 72 items\n"
     ]
    }
   ],
   "source": [
    "# This cell does all the set-up\n",
    "f = open('titanic.csv')\n",
    "titanic = pd.read_csv(f)\n",
    "# Convert gender and embarked to numeric values and missing ages to average age\n",
    "titanic['Sex'].replace({'male':0, 'female':1}, inplace=True)\n",
    "titanic['Embarked'].replace({'C':0, 'S':1, 'Q':2}, inplace=True)\n",
    "avg_age = np.average(titanic['Age'].dropna().tolist())\n",
    "titanic['Age'].fillna(avg_age, inplace=True)\n",
    "# Create training and test sets\n",
    "numitems = len(titanic)\n",
    "percenttrain = 0.92\n",
    "numtrain = int(numitems*percenttrain)\n",
    "print('Training set', numtrain, 'items')\n",
    "print('Test set', numitems - numtrain, 'items')\n",
    "titanicTrain = titanic[0:numtrain]\n",
    "titanicTest = titanic[numtrain:]"
   ]
  },
  {
   "cell_type": "code",
   "execution_count": 12,
   "id": "1f19c780-1105-4f98-b612-71df972b3ffe",
   "metadata": {},
   "outputs": [
    {
     "name": "stdout",
     "output_type": "stream",
     "text": [
      "Accuracy: 0.84722\n"
     ]
    }
   ],
   "source": [
    "# This cell does the classification.\n",
    "# Try different features and different numbers of neighbors.\n",
    "# What's the highest accuracy you can get?\n",
    "#features = ['gender', 'age', 'class', 'fare', 'embarked']\n",
    "#features = ['Sex', 'Pclass' ]\n",
    "features = ['Sex', 'Pclass', 'SibSp', 'Parch']\n",
    "neighbors = 30\n",
    "predict = 'Survived'\n",
    "classifier = KNeighborsClassifier(neighbors)\n",
    "classifier.fit(titanicTrain[features], titanicTrain[predict])\n",
    "predictions = classifier.predict(titanicTest[features])\n",
    "# Calculate accuracy\n",
    "actuals = list(titanicTest[predict])\n",
    "correct = 0\n",
    "for i in range(len(actuals)):\n",
    "# print('Predicted:', predictions[i], ' Actual:', actuals[i])\n",
    "  if predictions[i] == actuals[i]: correct +=1\n",
    "print('Accuracy:', round(correct/len(actuals),5))"
   ]
  },
  {
   "cell_type": "code",
   "execution_count": 13,
   "id": "79654fb8-b3ed-463d-b7cf-4b3bf9fedaef",
   "metadata": {},
   "outputs": [
    {
     "name": "stdout",
     "output_type": "stream",
     "text": [
      "Predicted Survived: 1\n"
     ]
    }
   ],
   "source": [
    "new_data_point = {\n",
    "    'Sex': '1',  # replace with 'male' or 'female'\n",
    "    'Pclass': 2,\n",
    "    'SibSp': 1,\n",
    "    'Parch': 1 # replace with 1, 2, or 3\n",
    "}\n",
    "\n",
    "# Convert the new data point to a DataFrame for prediction\n",
    "new_data_df = pd.DataFrame([new_data_point])\n",
    "\n",
    "# Use the trained classifier to make predictions\n",
    "prediction = classifier.predict(new_data_df)\n",
    "\n",
    "# Print the predicted result\n",
    "print('Predicted Survived:', prediction[0])"
   ]
  },
  {
   "cell_type": "code",
   "execution_count": 14,
   "id": "ab928406-29cf-41d5-903f-c5cec1d7df7c",
   "metadata": {},
   "outputs": [],
   "source": [
    "import pickle\n",
    "\n",
    "# Save the model to a file\n",
    "with open('titanic_model.pkl', 'wb') as f:\n",
    "    pickle.dump(classifier, f)\n"
   ]
  },
  {
   "cell_type": "code",
   "execution_count": null,
   "id": "81b37bd7-89aa-411d-ba5b-96dcdc0424bc",
   "metadata": {},
   "outputs": [],
   "source": []
  }
 ],
 "metadata": {
  "kernelspec": {
   "display_name": "Python 3 (ipykernel)",
   "language": "python",
   "name": "python3"
  },
  "language_info": {
   "codemirror_mode": {
    "name": "ipython",
    "version": 3
   },
   "file_extension": ".py",
   "mimetype": "text/x-python",
   "name": "python",
   "nbconvert_exporter": "python",
   "pygments_lexer": "ipython3",
   "version": "3.11.3"
  }
 },
 "nbformat": 4,
 "nbformat_minor": 5
}
